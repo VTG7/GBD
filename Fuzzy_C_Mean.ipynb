import numpy as np
import matplotlib.pyplot as plt
!pip install scikit-fuzzy
import skfuzzy as fuzz
import os
import cv2
import numpy as np
from time import time

%matplotlib inline
